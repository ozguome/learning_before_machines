{
 "cells": [
  {
   "cell_type": "markdown",
   "metadata": {},
   "source": [
    "RFM, LTV and Segmentation with Classification Algorithm"
   ]
  },
  {
   "cell_type": "code",
   "execution_count": 2,
   "metadata": {},
   "outputs": [],
   "source": [
    "import pandas as pd\n",
    "import numpy as np"
   ]
  },
  {
   "cell_type": "code",
   "execution_count": 9,
   "metadata": {},
   "outputs": [
    {
     "data": {
      "text/plain": [
       "493"
      ]
     },
     "execution_count": 9,
     "metadata": {},
     "output_type": "execute_result"
    }
   ],
   "source": [
    "#import\n",
    "an = pd.read_excel (r'C:\\Users\\ozguome\\Desktop/Case Studies/Case Study ML/Keşifçi Veri Analizi/an_bc_karotsuz.xlsx') #for an earlier version of Excel, you may need to use the file extension of 'xls'\n",
    "#dtypes\n",
    "an[\"soldtocustomer\"]=an[\"soldtocustomer\"].apply(str)\n",
    "an[\"billno\"]=an[\"billno\"].apply(str)\n",
    "an[\"channel\"]=an[\"channel\"].apply(str)\n",
    "an[\"billday\"]=pd.to_datetime(an[\"billday\"],format='%d.%m.%Y')\n",
    "an[\"materialno\"]=an[\"materialno\"].apply(str)\n",
    "# Descending Customer Sales Volume Dframe\n",
    "an_sales_sort=an.groupby(by=[\"soldtocustomer\"], as_index=False)['try'].sum().sort_values(by=[\"try\"],ascending=False)\n",
    "an_sales_sort=an_sales_sort.reset_index(drop=True)\n",
    "an_sales_sort.head()"
   ]
  },
  {
   "cell_type": "code",
   "execution_count": 8,
   "metadata": {},
   "outputs": [
    {
     "data": {
      "text/plain": [
       "160"
      ]
     },
     "execution_count": 8,
     "metadata": {},
     "output_type": "execute_result"
    }
   ],
   "source": [
    "# All bills list by Customer Sales volume Sorted Descending\n",
    "cust_rank=list()\n",
    "for i in an_sales_sort[\"soldtocustomer\"]: \n",
    "    cust_rank.append(an[an[\"soldtocustomer\"]==i])\n",
    "len(cust_rank[0])\n"
   ]
  },
  {
   "cell_type": "markdown",
   "metadata": {},
   "source": [
    "# RFM Analysis"
   ]
  },
  {
   "cell_type": "markdown",
   "metadata": {},
   "source": [
    "## Recency"
   ]
  },
  {
   "cell_type": "code",
   "execution_count": 36,
   "metadata": {},
   "outputs": [],
   "source": [
    "from datetime import date"
   ]
  },
  {
   "cell_type": "code",
   "execution_count": 45,
   "metadata": {},
   "outputs": [
    {
     "data": {
      "text/plain": [
       "Index(['soldtocustomer', 'try', 'recency'], dtype='object')"
      ]
     },
     "execution_count": 45,
     "metadata": {},
     "output_type": "execute_result"
    }
   ],
   "source": [
    "#recency list for every customer.\n",
    "\n",
    "recency_list=list()\n",
    "for i in pd.DataFrame(cust_rank).index:\n",
    "    recency_list.append((datetime.now()-cust_rank[i]['billday'].max()).days)\n",
    "recency_list=pd.DataFrame(recency_list,columns=[\"recency\"])-17\n",
    "an_sales_sort[\"recency\"]=recency_list\n",
    "an_sales_sort.columns"
   ]
  },
  {
   "cell_type": "code",
   "execution_count": 115,
   "metadata": {},
   "outputs": [
    {
     "data": {
      "text/plain": [
       "count    493.000000\n",
       "mean     128.432049\n",
       "std      108.550717\n",
       "min       13.000000\n",
       "25%       35.000000\n",
       "50%       92.000000\n",
       "75%      191.000000\n",
       "max      379.000000\n",
       "Name: recency, dtype: float64"
      ]
     },
     "execution_count": 115,
     "metadata": {},
     "output_type": "execute_result"
    }
   ],
   "source": [
    "an_sales_sort[\"recency\"].describe().T"
   ]
  },
  {
   "cell_type": "markdown",
   "metadata": {},
   "source": [
    "## Frequency"
   ]
  },
  {
   "cell_type": "code",
   "execution_count": 82,
   "metadata": {
    "collapsed": true,
    "jupyter": {
     "outputs_hidden": true
    }
   },
   "outputs": [
    {
     "data": {
      "text/html": [
       "<div>\n",
       "<style scoped>\n",
       "    .dataframe tbody tr th:only-of-type {\n",
       "        vertical-align: middle;\n",
       "    }\n",
       "\n",
       "    .dataframe tbody tr th {\n",
       "        vertical-align: top;\n",
       "    }\n",
       "\n",
       "    .dataframe thead th {\n",
       "        text-align: right;\n",
       "    }\n",
       "</style>\n",
       "<table border=\"1\" class=\"dataframe\">\n",
       "  <thead>\n",
       "    <tr style=\"text-align: right;\">\n",
       "      <th></th>\n",
       "      <th>billno</th>\n",
       "    </tr>\n",
       "  </thead>\n",
       "  <tbody>\n",
       "    <tr>\n",
       "      <td>0</td>\n",
       "      <td>160</td>\n",
       "    </tr>\n",
       "    <tr>\n",
       "      <td>1</td>\n",
       "      <td>55</td>\n",
       "    </tr>\n",
       "    <tr>\n",
       "      <td>2</td>\n",
       "      <td>65</td>\n",
       "    </tr>\n",
       "    <tr>\n",
       "      <td>3</td>\n",
       "      <td>221</td>\n",
       "    </tr>\n",
       "    <tr>\n",
       "      <td>4</td>\n",
       "      <td>250</td>\n",
       "    </tr>\n",
       "    <tr>\n",
       "      <td>...</td>\n",
       "      <td>...</td>\n",
       "    </tr>\n",
       "    <tr>\n",
       "      <td>488</td>\n",
       "      <td>15</td>\n",
       "    </tr>\n",
       "    <tr>\n",
       "      <td>489</td>\n",
       "      <td>1</td>\n",
       "    </tr>\n",
       "    <tr>\n",
       "      <td>490</td>\n",
       "      <td>1</td>\n",
       "    </tr>\n",
       "    <tr>\n",
       "      <td>491</td>\n",
       "      <td>3</td>\n",
       "    </tr>\n",
       "    <tr>\n",
       "      <td>492</td>\n",
       "      <td>8</td>\n",
       "    </tr>\n",
       "  </tbody>\n",
       "</table>\n",
       "<p>493 rows × 1 columns</p>\n",
       "</div>"
      ],
      "text/plain": [
       "     billno\n",
       "0       160\n",
       "1        55\n",
       "2        65\n",
       "3       221\n",
       "4       250\n",
       "..      ...\n",
       "488      15\n",
       "489       1\n",
       "490       1\n",
       "491       3\n",
       "492       8\n",
       "\n",
       "[493 rows x 1 columns]"
      ]
     },
     "execution_count": 82,
     "metadata": {},
     "output_type": "execute_result"
    }
   ],
   "source": [
    "# Calculatin Frequency and adding it to an_sales_sort as column\n",
    "freq_list=list()\n",
    "for i in pd.DataFrame(cust_rank).index:\n",
    "    freq_list.append(pd.DataFrame(cust_rank[i].groupby([\"soldtocustomer\"])[\"billno\"].count()).iloc[0])\n",
    "freq_list=pd.DataFrame(freq_list)\n",
    "freq_list.rename(columns={\"billno\": \"frequency\"})\n",
    "freq_list=freq_list.reset_index(drop=True)\n",
    "freq_list"
   ]
  },
  {
   "cell_type": "code",
   "execution_count": null,
   "metadata": {},
   "outputs": [],
   "source": [
    "an_sales_sort[\"frequency\"]=pd.DataFrame(freq_list)"
   ]
  },
  {
   "cell_type": "code",
   "execution_count": 83,
   "metadata": {
    "collapsed": true,
    "jupyter": {
     "outputs_hidden": true
    }
   },
   "outputs": [
    {
     "data": {
      "text/html": [
       "<div>\n",
       "<style scoped>\n",
       "    .dataframe tbody tr th:only-of-type {\n",
       "        vertical-align: middle;\n",
       "    }\n",
       "\n",
       "    .dataframe tbody tr th {\n",
       "        vertical-align: top;\n",
       "    }\n",
       "\n",
       "    .dataframe thead th {\n",
       "        text-align: right;\n",
       "    }\n",
       "</style>\n",
       "<table border=\"1\" class=\"dataframe\">\n",
       "  <thead>\n",
       "    <tr style=\"text-align: right;\">\n",
       "      <th></th>\n",
       "      <th>soldtocustomer</th>\n",
       "      <th>try</th>\n",
       "      <th>recency</th>\n",
       "      <th>frequency</th>\n",
       "    </tr>\n",
       "  </thead>\n",
       "  <tbody>\n",
       "    <tr>\n",
       "      <td>0</td>\n",
       "      <td>16934334</td>\n",
       "      <td>1071951.80</td>\n",
       "      <td>17</td>\n",
       "      <td>160</td>\n",
       "    </tr>\n",
       "    <tr>\n",
       "      <td>1</td>\n",
       "      <td>26197972</td>\n",
       "      <td>526455.63</td>\n",
       "      <td>17</td>\n",
       "      <td>55</td>\n",
       "    </tr>\n",
       "    <tr>\n",
       "      <td>2</td>\n",
       "      <td>20980629</td>\n",
       "      <td>382729.91</td>\n",
       "      <td>14</td>\n",
       "      <td>65</td>\n",
       "    </tr>\n",
       "    <tr>\n",
       "      <td>3</td>\n",
       "      <td>21619938</td>\n",
       "      <td>341939.03</td>\n",
       "      <td>13</td>\n",
       "      <td>221</td>\n",
       "    </tr>\n",
       "    <tr>\n",
       "      <td>4</td>\n",
       "      <td>22609924</td>\n",
       "      <td>313687.45</td>\n",
       "      <td>15</td>\n",
       "      <td>250</td>\n",
       "    </tr>\n",
       "    <tr>\n",
       "      <td>...</td>\n",
       "      <td>...</td>\n",
       "      <td>...</td>\n",
       "      <td>...</td>\n",
       "      <td>...</td>\n",
       "    </tr>\n",
       "    <tr>\n",
       "      <td>488</td>\n",
       "      <td>19680025</td>\n",
       "      <td>30.30</td>\n",
       "      <td>31</td>\n",
       "      <td>15</td>\n",
       "    </tr>\n",
       "    <tr>\n",
       "      <td>489</td>\n",
       "      <td>23699252</td>\n",
       "      <td>29.34</td>\n",
       "      <td>239</td>\n",
       "      <td>1</td>\n",
       "    </tr>\n",
       "    <tr>\n",
       "      <td>490</td>\n",
       "      <td>22828251</td>\n",
       "      <td>16.79</td>\n",
       "      <td>181</td>\n",
       "      <td>1</td>\n",
       "    </tr>\n",
       "    <tr>\n",
       "      <td>491</td>\n",
       "      <td>16937117</td>\n",
       "      <td>-441.26</td>\n",
       "      <td>52</td>\n",
       "      <td>3</td>\n",
       "    </tr>\n",
       "    <tr>\n",
       "      <td>492</td>\n",
       "      <td>20755782</td>\n",
       "      <td>-681.91</td>\n",
       "      <td>50</td>\n",
       "      <td>8</td>\n",
       "    </tr>\n",
       "  </tbody>\n",
       "</table>\n",
       "<p>493 rows × 4 columns</p>\n",
       "</div>"
      ],
      "text/plain": [
       "    soldtocustomer         try  recency  frequency\n",
       "0         16934334  1071951.80       17        160\n",
       "1         26197972   526455.63       17         55\n",
       "2         20980629   382729.91       14         65\n",
       "3         21619938   341939.03       13        221\n",
       "4         22609924   313687.45       15        250\n",
       "..             ...         ...      ...        ...\n",
       "488       19680025       30.30       31         15\n",
       "489       23699252       29.34      239          1\n",
       "490       22828251       16.79      181          1\n",
       "491       16937117     -441.26       52          3\n",
       "492       20755782     -681.91       50          8\n",
       "\n",
       "[493 rows x 4 columns]"
      ]
     },
     "execution_count": 83,
     "metadata": {},
     "output_type": "execute_result"
    }
   ],
   "source": [
    "an_sales_sort"
   ]
  },
  {
   "cell_type": "markdown",
   "metadata": {},
   "source": [
    "## Avarage Volume per bill (Monetary Value)"
   ]
  },
  {
   "cell_type": "code",
   "execution_count": 87,
   "metadata": {},
   "outputs": [
    {
     "data": {
      "text/html": [
       "<div>\n",
       "<style scoped>\n",
       "    .dataframe tbody tr th:only-of-type {\n",
       "        vertical-align: middle;\n",
       "    }\n",
       "\n",
       "    .dataframe tbody tr th {\n",
       "        vertical-align: top;\n",
       "    }\n",
       "\n",
       "    .dataframe thead th {\n",
       "        text-align: right;\n",
       "    }\n",
       "</style>\n",
       "<table border=\"1\" class=\"dataframe\">\n",
       "  <thead>\n",
       "    <tr style=\"text-align: right;\">\n",
       "      <th></th>\n",
       "      <th>soldtocustomer</th>\n",
       "      <th>try</th>\n",
       "      <th>recency</th>\n",
       "      <th>frequency</th>\n",
       "      <th>Monetary</th>\n",
       "      <th>monetary</th>\n",
       "    </tr>\n",
       "  </thead>\n",
       "  <tbody>\n",
       "    <tr>\n",
       "      <td>0</td>\n",
       "      <td>16934334</td>\n",
       "      <td>1071951.80</td>\n",
       "      <td>17</td>\n",
       "      <td>160</td>\n",
       "      <td>6699.698750</td>\n",
       "      <td>6699.698750</td>\n",
       "    </tr>\n",
       "    <tr>\n",
       "      <td>1</td>\n",
       "      <td>26197972</td>\n",
       "      <td>526455.63</td>\n",
       "      <td>17</td>\n",
       "      <td>55</td>\n",
       "      <td>9571.920545</td>\n",
       "      <td>9571.920545</td>\n",
       "    </tr>\n",
       "    <tr>\n",
       "      <td>2</td>\n",
       "      <td>20980629</td>\n",
       "      <td>382729.91</td>\n",
       "      <td>14</td>\n",
       "      <td>65</td>\n",
       "      <td>5888.152462</td>\n",
       "      <td>5888.152462</td>\n",
       "    </tr>\n",
       "    <tr>\n",
       "      <td>3</td>\n",
       "      <td>21619938</td>\n",
       "      <td>341939.03</td>\n",
       "      <td>13</td>\n",
       "      <td>221</td>\n",
       "      <td>1547.235430</td>\n",
       "      <td>1547.235430</td>\n",
       "    </tr>\n",
       "    <tr>\n",
       "      <td>4</td>\n",
       "      <td>22609924</td>\n",
       "      <td>313687.45</td>\n",
       "      <td>15</td>\n",
       "      <td>250</td>\n",
       "      <td>1254.749800</td>\n",
       "      <td>1254.749800</td>\n",
       "    </tr>\n",
       "    <tr>\n",
       "      <td>...</td>\n",
       "      <td>...</td>\n",
       "      <td>...</td>\n",
       "      <td>...</td>\n",
       "      <td>...</td>\n",
       "      <td>...</td>\n",
       "      <td>...</td>\n",
       "    </tr>\n",
       "    <tr>\n",
       "      <td>488</td>\n",
       "      <td>19680025</td>\n",
       "      <td>30.30</td>\n",
       "      <td>31</td>\n",
       "      <td>15</td>\n",
       "      <td>2.020000</td>\n",
       "      <td>2.020000</td>\n",
       "    </tr>\n",
       "    <tr>\n",
       "      <td>489</td>\n",
       "      <td>23699252</td>\n",
       "      <td>29.34</td>\n",
       "      <td>239</td>\n",
       "      <td>1</td>\n",
       "      <td>29.340000</td>\n",
       "      <td>29.340000</td>\n",
       "    </tr>\n",
       "    <tr>\n",
       "      <td>490</td>\n",
       "      <td>22828251</td>\n",
       "      <td>16.79</td>\n",
       "      <td>181</td>\n",
       "      <td>1</td>\n",
       "      <td>16.790000</td>\n",
       "      <td>16.790000</td>\n",
       "    </tr>\n",
       "    <tr>\n",
       "      <td>491</td>\n",
       "      <td>16937117</td>\n",
       "      <td>-441.26</td>\n",
       "      <td>52</td>\n",
       "      <td>3</td>\n",
       "      <td>-147.086667</td>\n",
       "      <td>-147.086667</td>\n",
       "    </tr>\n",
       "    <tr>\n",
       "      <td>492</td>\n",
       "      <td>20755782</td>\n",
       "      <td>-681.91</td>\n",
       "      <td>50</td>\n",
       "      <td>8</td>\n",
       "      <td>-85.238750</td>\n",
       "      <td>-85.238750</td>\n",
       "    </tr>\n",
       "  </tbody>\n",
       "</table>\n",
       "<p>493 rows × 6 columns</p>\n",
       "</div>"
      ],
      "text/plain": [
       "    soldtocustomer         try  recency  frequency     Monetary     monetary\n",
       "0         16934334  1071951.80       17        160  6699.698750  6699.698750\n",
       "1         26197972   526455.63       17         55  9571.920545  9571.920545\n",
       "2         20980629   382729.91       14         65  5888.152462  5888.152462\n",
       "3         21619938   341939.03       13        221  1547.235430  1547.235430\n",
       "4         22609924   313687.45       15        250  1254.749800  1254.749800\n",
       "..             ...         ...      ...        ...          ...          ...\n",
       "488       19680025       30.30       31         15     2.020000     2.020000\n",
       "489       23699252       29.34      239          1    29.340000    29.340000\n",
       "490       22828251       16.79      181          1    16.790000    16.790000\n",
       "491       16937117     -441.26       52          3  -147.086667  -147.086667\n",
       "492       20755782     -681.91       50          8   -85.238750   -85.238750\n",
       "\n",
       "[493 rows x 6 columns]"
      ]
     },
     "execution_count": 87,
     "metadata": {},
     "output_type": "execute_result"
    }
   ],
   "source": [
    "an_sales_sort[\"monetary\"]=an_sales_sort[\"try\"]/an_sales_sort[\"frequency\"]\n",
    "an_sales_sort"
   ]
  },
  {
   "cell_type": "markdown",
   "metadata": {},
   "source": [
    "## RFM Cluster with K-NN Method"
   ]
  },
  {
   "cell_type": "code",
   "execution_count": 103,
   "metadata": {},
   "outputs": [
    {
     "data": {
      "text/html": [
       "<div>\n",
       "<style scoped>\n",
       "    .dataframe tbody tr th:only-of-type {\n",
       "        vertical-align: middle;\n",
       "    }\n",
       "\n",
       "    .dataframe tbody tr th {\n",
       "        vertical-align: top;\n",
       "    }\n",
       "\n",
       "    .dataframe thead th {\n",
       "        text-align: right;\n",
       "    }\n",
       "</style>\n",
       "<table border=\"1\" class=\"dataframe\">\n",
       "  <thead>\n",
       "    <tr style=\"text-align: right;\">\n",
       "      <th></th>\n",
       "      <th>frequency</th>\n",
       "      <th>recency</th>\n",
       "    </tr>\n",
       "  </thead>\n",
       "  <tbody>\n",
       "    <tr>\n",
       "      <td>frequency</td>\n",
       "      <td>1.000000</td>\n",
       "      <td>-0.308283</td>\n",
       "    </tr>\n",
       "    <tr>\n",
       "      <td>recency</td>\n",
       "      <td>-0.308283</td>\n",
       "      <td>1.000000</td>\n",
       "    </tr>\n",
       "  </tbody>\n",
       "</table>\n",
       "</div>"
      ],
      "text/plain": [
       "           frequency   recency\n",
       "frequency   1.000000 -0.308283\n",
       "recency    -0.308283  1.000000"
      ]
     },
     "execution_count": 103,
     "metadata": {},
     "output_type": "execute_result"
    }
   ],
   "source": [
    "# correlation factor between freq and recency\n",
    "an_sales_sort[[\"frequency\",\"recency\"]].corr()"
   ]
  },
  {
   "cell_type": "code",
   "execution_count": 122,
   "metadata": {},
   "outputs": [],
   "source": [
    "import matplotlib.pyplot as plt"
   ]
  },
  {
   "cell_type": "code",
   "execution_count": 155,
   "metadata": {},
   "outputs": [],
   "source": [
    "from sklearn.cluster import KMeans\n",
    "\n",
    "from warnings import filterwarnings\n",
    "filterwarnings('ignore')\n"
   ]
  },
  {
   "cell_type": "code",
   "execution_count": 149,
   "metadata": {},
   "outputs": [],
   "source": [
    "an_sales_sort_knn=an_sales_sort[[\"recency\",\"frequency\",\"monetary\"]]"
   ]
  },
  {
   "cell_type": "code",
   "execution_count": 154,
   "metadata": {},
   "outputs": [
    {
     "data": {
      "image/png": "[encoded data removed]",
      "text/plain": [
       "<Figure size 432x288 with 1 Axes>"
      ]
     },
     "metadata": {
      "needs_background": "light"
     },
     "output_type": "display_data"
    }
   ],
   "source": [
    "sse={}\n",
    "\n",
    "for k in range(1, 10):\n",
    "    kmeans = KMeans(n_clusters=k, max_iter=1000).fit(an_sales_sort_knn)\n",
    "    an_sales_sort_knn[\"clusters\"] = kmeans.labels_\n",
    "    sse[k] = kmeans.inertia_ \n",
    "plt.figure()\n",
    "plt.plot(list(sse.keys()), list(sse.values()))\n",
    "plt.xlabel(\"Number of cluster\")\n",
    "plt.show()"
   ]
  },
  {
   "cell_type": "code",
   "execution_count": 216,
   "metadata": {},
   "outputs": [],
   "source": [
    "# k =4\n",
    "kmeans = KMeans(n_clusters=4, max_iter=1000).fit(an_sales_sort_knn)\n",
    "an_sales_sort_knn[\"clusters\"] = kmeans.labels_\n",
    "# k=4 is perfect cluster but cluster 1 is just one customer, we can put customer [0] to cluster 3. \n",
    "an_sales_sort_knn.iloc[0,3]=3"
   ]
  },
  {
   "cell_type": "code",
   "execution_count": 169,
   "metadata": {},
   "outputs": [],
   "source": [
    "# adding total sales column\n",
    "an_sales_sort_knn[\"try\"]=an_sales_sort_knn[\"monetary\"]*an_sales_sort_knn[\"frequency\"]"
   ]
  },
  {
   "cell_type": "code",
   "execution_count": 274,
   "metadata": {},
   "outputs": [
    {
     "data": {
      "text/plain": [
       "<matplotlib.collections.PathCollection at 0x1b6a17ca408>"
      ]
     },
     "execution_count": 274,
     "metadata": {},
     "output_type": "execute_result"
    },
    {
     "data": {
      "image/png": "[encoded data removed]",
      "text/plain": [
       "<Figure size 432x288 with 1 Axes>"
      ]
     },
     "metadata": {
      "needs_background": "light"
     },
     "output_type": "display_data"
    }
   ],
   "source": [
    "#scatterplot of clusters\n",
    "plt.scatter(an_sales_sort[\"soldtocustomer\"],an_sales_sort_knn[\"try\"], c=an_sales_sort_knn[\"clusters\"],\n",
    "            s=5, cmap=\"viridis\", marker=\".\")"
   ]
  },
  {
   "cell_type": "markdown",
   "metadata": {},
   "source": [
    "##  CLUSTER 0 = HİGH VALUE, 1 = MİD VALUE, 2 = LOW VALUE\n"
   ]
  },
  {
   "cell_type": "code",
   "execution_count": 245,
   "metadata": {},
   "outputs": [],
   "source": [
    "# Rearranging cluster numbers.\n",
    "an_sales_sort_knn[\"clusters\"][an_sales_sort_knn[\"clusters\"]==3]=2\n"
   ]
  },
  {
   "cell_type": "code",
   "execution_count": 264,
   "metadata": {},
   "outputs": [
    {
     "data": {
      "text/html": [
       "<div>\n",
       "<style scoped>\n",
       "    .dataframe tbody tr th:only-of-type {\n",
       "        vertical-align: middle;\n",
       "    }\n",
       "\n",
       "    .dataframe tbody tr th {\n",
       "        vertical-align: top;\n",
       "    }\n",
       "\n",
       "    .dataframe thead th {\n",
       "        text-align: right;\n",
       "    }\n",
       "</style>\n",
       "<table border=\"1\" class=\"dataframe\">\n",
       "  <thead>\n",
       "    <tr style=\"text-align: right;\">\n",
       "      <th></th>\n",
       "      <th>recency</th>\n",
       "      <th>frequency</th>\n",
       "      <th>monetary</th>\n",
       "      <th>try</th>\n",
       "    </tr>\n",
       "    <tr>\n",
       "      <th>clusters</th>\n",
       "      <th></th>\n",
       "      <th></th>\n",
       "      <th></th>\n",
       "      <th></th>\n",
       "    </tr>\n",
       "  </thead>\n",
       "  <tbody>\n",
       "    <tr>\n",
       "      <td>0</td>\n",
       "      <td>76</td>\n",
       "      <td>751</td>\n",
       "      <td>24961.756987</td>\n",
       "      <td>2636763.82</td>\n",
       "    </tr>\n",
       "    <tr>\n",
       "      <td>1</td>\n",
       "      <td>1691</td>\n",
       "      <td>3566</td>\n",
       "      <td>124091.897652</td>\n",
       "      <td>4544675.48</td>\n",
       "    </tr>\n",
       "    <tr>\n",
       "      <td>2</td>\n",
       "      <td>61550</td>\n",
       "      <td>5980</td>\n",
       "      <td>495824.681877</td>\n",
       "      <td>3859984.70</td>\n",
       "    </tr>\n",
       "  </tbody>\n",
       "</table>\n",
       "</div>"
      ],
      "text/plain": [
       "          recency  frequency       monetary         try\n",
       "clusters                                               \n",
       "0              76        751   24961.756987  2636763.82\n",
       "1            1691       3566  124091.897652  4544675.48\n",
       "2           61550       5980  495824.681877  3859984.70"
      ]
     },
     "execution_count": 264,
     "metadata": {},
     "output_type": "execute_result"
    }
   ],
   "source": [
    "an_sales_sort_knn.groupby([\"clusters\"]).sum()"
   ]
  },
  {
   "cell_type": "code",
   "execution_count": 246,
   "metadata": {},
   "outputs": [
    {
     "data": {
      "text/html": [
       "<div>\n",
       "<style scoped>\n",
       "    .dataframe tbody tr th:only-of-type {\n",
       "        vertical-align: middle;\n",
       "    }\n",
       "\n",
       "    .dataframe tbody tr th {\n",
       "        vertical-align: top;\n",
       "    }\n",
       "\n",
       "    .dataframe thead th {\n",
       "        text-align: right;\n",
       "    }\n",
       "</style>\n",
       "<table border=\"1\" class=\"dataframe\">\n",
       "  <thead>\n",
       "    <tr style=\"text-align: right;\">\n",
       "      <th></th>\n",
       "      <th>count</th>\n",
       "      <th>mean</th>\n",
       "      <th>std</th>\n",
       "      <th>min</th>\n",
       "      <th>25%</th>\n",
       "      <th>50%</th>\n",
       "      <th>75%</th>\n",
       "      <th>max</th>\n",
       "    </tr>\n",
       "    <tr>\n",
       "      <th>clusters</th>\n",
       "      <th></th>\n",
       "      <th></th>\n",
       "      <th></th>\n",
       "      <th></th>\n",
       "      <th></th>\n",
       "      <th></th>\n",
       "      <th></th>\n",
       "      <th></th>\n",
       "    </tr>\n",
       "  </thead>\n",
       "  <tbody>\n",
       "    <tr>\n",
       "      <td>0</td>\n",
       "      <td>5.0</td>\n",
       "      <td>150.200000</td>\n",
       "      <td>88.587245</td>\n",
       "      <td>55.0</td>\n",
       "      <td>65.00</td>\n",
       "      <td>160.0</td>\n",
       "      <td>221.00</td>\n",
       "      <td>250.0</td>\n",
       "    </tr>\n",
       "    <tr>\n",
       "      <td>1</td>\n",
       "      <td>44.0</td>\n",
       "      <td>81.045455</td>\n",
       "      <td>65.256187</td>\n",
       "      <td>4.0</td>\n",
       "      <td>31.75</td>\n",
       "      <td>64.0</td>\n",
       "      <td>116.75</td>\n",
       "      <td>244.0</td>\n",
       "    </tr>\n",
       "    <tr>\n",
       "      <td>2</td>\n",
       "      <td>444.0</td>\n",
       "      <td>13.468468</td>\n",
       "      <td>21.911301</td>\n",
       "      <td>1.0</td>\n",
       "      <td>3.00</td>\n",
       "      <td>7.0</td>\n",
       "      <td>15.25</td>\n",
       "      <td>270.0</td>\n",
       "    </tr>\n",
       "  </tbody>\n",
       "</table>\n",
       "</div>"
      ],
      "text/plain": [
       "          count        mean        std   min    25%    50%     75%    max\n",
       "clusters                                                                 \n",
       "0           5.0  150.200000  88.587245  55.0  65.00  160.0  221.00  250.0\n",
       "1          44.0   81.045455  65.256187   4.0  31.75   64.0  116.75  244.0\n",
       "2         444.0   13.468468  21.911301   1.0   3.00    7.0   15.25  270.0"
      ]
     },
     "execution_count": 246,
     "metadata": {},
     "output_type": "execute_result"
    }
   ],
   "source": [
    "an_sales_sort_knn.groupby([\"clusters\"])[\"frequency\"].describe()"
   ]
  },
  {
   "cell_type": "code",
   "execution_count": 249,
   "metadata": {},
   "outputs": [
    {
     "data": {
      "text/html": [
       "<div>\n",
       "<style scoped>\n",
       "    .dataframe tbody tr th:only-of-type {\n",
       "        vertical-align: middle;\n",
       "    }\n",
       "\n",
       "    .dataframe tbody tr th {\n",
       "        vertical-align: top;\n",
       "    }\n",
       "\n",
       "    .dataframe thead th {\n",
       "        text-align: right;\n",
       "    }\n",
       "</style>\n",
       "<table border=\"1\" class=\"dataframe\">\n",
       "  <thead>\n",
       "    <tr style=\"text-align: right;\">\n",
       "      <th></th>\n",
       "      <th>count</th>\n",
       "      <th>mean</th>\n",
       "      <th>std</th>\n",
       "      <th>min</th>\n",
       "      <th>25%</th>\n",
       "      <th>50%</th>\n",
       "      <th>75%</th>\n",
       "      <th>max</th>\n",
       "    </tr>\n",
       "    <tr>\n",
       "      <th>clusters</th>\n",
       "      <th></th>\n",
       "      <th></th>\n",
       "      <th></th>\n",
       "      <th></th>\n",
       "      <th></th>\n",
       "      <th></th>\n",
       "      <th></th>\n",
       "      <th></th>\n",
       "    </tr>\n",
       "  </thead>\n",
       "  <tbody>\n",
       "    <tr>\n",
       "      <td>0</td>\n",
       "      <td>5.0</td>\n",
       "      <td>527352.764000</td>\n",
       "      <td>315252.202182</td>\n",
       "      <td>313687.45</td>\n",
       "      <td>341939.0300</td>\n",
       "      <td>382729.910</td>\n",
       "      <td>526455.6300</td>\n",
       "      <td>1071951.80</td>\n",
       "    </tr>\n",
       "    <tr>\n",
       "      <td>1</td>\n",
       "      <td>44.0</td>\n",
       "      <td>103288.079091</td>\n",
       "      <td>39324.102579</td>\n",
       "      <td>56837.83</td>\n",
       "      <td>76915.5475</td>\n",
       "      <td>91954.635</td>\n",
       "      <td>128552.7425</td>\n",
       "      <td>223801.42</td>\n",
       "    </tr>\n",
       "    <tr>\n",
       "      <td>2</td>\n",
       "      <td>444.0</td>\n",
       "      <td>8693.659234</td>\n",
       "      <td>11866.038421</td>\n",
       "      <td>-681.91</td>\n",
       "      <td>955.6600</td>\n",
       "      <td>3430.790</td>\n",
       "      <td>10810.4825</td>\n",
       "      <td>54372.76</td>\n",
       "    </tr>\n",
       "  </tbody>\n",
       "</table>\n",
       "</div>"
      ],
      "text/plain": [
       "          count           mean            std        min          25%  \\\n",
       "clusters                                                                \n",
       "0           5.0  527352.764000  315252.202182  313687.45  341939.0300   \n",
       "1          44.0  103288.079091   39324.102579   56837.83   76915.5475   \n",
       "2         444.0    8693.659234   11866.038421    -681.91     955.6600   \n",
       "\n",
       "                 50%          75%         max  \n",
       "clusters                                       \n",
       "0         382729.910  526455.6300  1071951.80  \n",
       "1          91954.635  128552.7425   223801.42  \n",
       "2           3430.790   10810.4825    54372.76  "
      ]
     },
     "execution_count": 249,
     "metadata": {},
     "output_type": "execute_result"
    }
   ],
   "source": [
    "an_sales_sort_knn.groupby([\"clusters\"])[\"try\"].describe()"
   ]
  },
  {
   "cell_type": "code",
   "execution_count": 260,
   "metadata": {},
   "outputs": [],
   "source": [
    "# adding cluster info to sorted list.\n",
    "an_sales_sort[\"clusters\"]=an_sales_sort_knn[\"clusters\"]"
   ]
  },
  {
   "cell_type": "code",
   "execution_count": 275,
   "metadata": {},
   "outputs": [
    {
     "data": {
      "text/html": [
       "<div>\n",
       "<style scoped>\n",
       "    .dataframe tbody tr th:only-of-type {\n",
       "        vertical-align: middle;\n",
       "    }\n",
       "\n",
       "    .dataframe tbody tr th {\n",
       "        vertical-align: top;\n",
       "    }\n",
       "\n",
       "    .dataframe thead th {\n",
       "        text-align: right;\n",
       "    }\n",
       "</style>\n",
       "<table border=\"1\" class=\"dataframe\">\n",
       "  <thead>\n",
       "    <tr style=\"text-align: right;\">\n",
       "      <th></th>\n",
       "      <th>soldtocustomer</th>\n",
       "      <th>try</th>\n",
       "      <th>recency</th>\n",
       "      <th>frequency</th>\n",
       "      <th>monetary</th>\n",
       "      <th>clusters</th>\n",
       "    </tr>\n",
       "  </thead>\n",
       "  <tbody>\n",
       "    <tr>\n",
       "      <td>0</td>\n",
       "      <td>16934334</td>\n",
       "      <td>1071951.80</td>\n",
       "      <td>17</td>\n",
       "      <td>160</td>\n",
       "      <td>6699.698750</td>\n",
       "      <td>0</td>\n",
       "    </tr>\n",
       "    <tr>\n",
       "      <td>1</td>\n",
       "      <td>26197972</td>\n",
       "      <td>526455.63</td>\n",
       "      <td>17</td>\n",
       "      <td>55</td>\n",
       "      <td>9571.920545</td>\n",
       "      <td>0</td>\n",
       "    </tr>\n",
       "    <tr>\n",
       "      <td>2</td>\n",
       "      <td>20980629</td>\n",
       "      <td>382729.91</td>\n",
       "      <td>14</td>\n",
       "      <td>65</td>\n",
       "      <td>5888.152462</td>\n",
       "      <td>0</td>\n",
       "    </tr>\n",
       "    <tr>\n",
       "      <td>3</td>\n",
       "      <td>21619938</td>\n",
       "      <td>341939.03</td>\n",
       "      <td>13</td>\n",
       "      <td>221</td>\n",
       "      <td>1547.235430</td>\n",
       "      <td>0</td>\n",
       "    </tr>\n",
       "    <tr>\n",
       "      <td>4</td>\n",
       "      <td>22609924</td>\n",
       "      <td>313687.45</td>\n",
       "      <td>15</td>\n",
       "      <td>250</td>\n",
       "      <td>1254.749800</td>\n",
       "      <td>0</td>\n",
       "    </tr>\n",
       "    <tr>\n",
       "      <td>5</td>\n",
       "      <td>16931802</td>\n",
       "      <td>223801.42</td>\n",
       "      <td>14</td>\n",
       "      <td>123</td>\n",
       "      <td>1819.523740</td>\n",
       "      <td>1</td>\n",
       "    </tr>\n",
       "    <tr>\n",
       "      <td>6</td>\n",
       "      <td>22552978</td>\n",
       "      <td>206591.08</td>\n",
       "      <td>27</td>\n",
       "      <td>52</td>\n",
       "      <td>3972.905385</td>\n",
       "      <td>1</td>\n",
       "    </tr>\n",
       "    <tr>\n",
       "      <td>7</td>\n",
       "      <td>16934149</td>\n",
       "      <td>175791.23</td>\n",
       "      <td>29</td>\n",
       "      <td>244</td>\n",
       "      <td>720.455861</td>\n",
       "      <td>1</td>\n",
       "    </tr>\n",
       "    <tr>\n",
       "      <td>8</td>\n",
       "      <td>22468865</td>\n",
       "      <td>170785.84</td>\n",
       "      <td>28</td>\n",
       "      <td>174</td>\n",
       "      <td>981.527816</td>\n",
       "      <td>1</td>\n",
       "    </tr>\n",
       "    <tr>\n",
       "      <td>9</td>\n",
       "      <td>24632659</td>\n",
       "      <td>145152.71</td>\n",
       "      <td>17</td>\n",
       "      <td>116</td>\n",
       "      <td>1251.316466</td>\n",
       "      <td>1</td>\n",
       "    </tr>\n",
       "  </tbody>\n",
       "</table>\n",
       "</div>"
      ],
      "text/plain": [
       "  soldtocustomer         try  recency  frequency     monetary  clusters\n",
       "0       16934334  1071951.80       17        160  6699.698750         0\n",
       "1       26197972   526455.63       17         55  9571.920545         0\n",
       "2       20980629   382729.91       14         65  5888.152462         0\n",
       "3       21619938   341939.03       13        221  1547.235430         0\n",
       "4       22609924   313687.45       15        250  1254.749800         0\n",
       "5       16931802   223801.42       14        123  1819.523740         1\n",
       "6       22552978   206591.08       27         52  3972.905385         1\n",
       "7       16934149   175791.23       29        244   720.455861         1\n",
       "8       22468865   170785.84       28        174   981.527816         1\n",
       "9       24632659   145152.71       17        116  1251.316466         1"
      ]
     },
     "execution_count": 275,
     "metadata": {},
     "output_type": "execute_result"
    }
   ],
   "source": [
    "an_sales_sort.head(10)"
   ]
  },
  {
   "cell_type": "code",
   "execution_count": 262,
   "metadata": {},
   "outputs": [
    {
     "data": {
      "text/plain": [
       "\u001b[1;31mSignature:\u001b[0m\n",
       "\u001b[0mplt\u001b[0m\u001b[1;33m.\u001b[0m\u001b[0mscatter\u001b[0m\u001b[1;33m(\u001b[0m\u001b[1;33m\n",
       "\u001b[0m    \u001b[0mx\u001b[0m\u001b[1;33m,\u001b[0m\u001b[1;33m\n",
       "\u001b[0m    \u001b[0my\u001b[0m\u001b[1;33m,\u001b[0m\u001b[1;33m\n",
       "\u001b[0m    \u001b[0ms\u001b[0m\u001b[1;33m=\u001b[0m\u001b[1;32mNone\u001b[0m\u001b[1;33m,\u001b[0m\u001b[1;33m\n",
       "\u001b[0m    \u001b[0mc\u001b[0m\u001b[1;33m=\u001b[0m\u001b[1;32mNone\u001b[0m\u001b[1;33m,\u001b[0m\u001b[1;33m\n",
       "\u001b[0m    \u001b[0mmarker\u001b[0m\u001b[1;33m=\u001b[0m\u001b[1;32mNone\u001b[0m\u001b[1;33m,\u001b[0m\u001b[1;33m\n",
       "\u001b[0m    \u001b[0mcmap\u001b[0m\u001b[1;33m=\u001b[0m\u001b[1;32mNone\u001b[0m\u001b[1;33m,\u001b[0m\u001b[1;33m\n",
       "\u001b[0m    \u001b[0mnorm\u001b[0m\u001b[1;33m=\u001b[0m\u001b[1;32mNone\u001b[0m\u001b[1;33m,\u001b[0m\u001b[1;33m\n",
       "\u001b[0m    \u001b[0mvmin\u001b[0m\u001b[1;33m=\u001b[0m\u001b[1;32mNone\u001b[0m\u001b[1;33m,\u001b[0m\u001b[1;33m\n",
       "\u001b[0m    \u001b[0mvmax\u001b[0m\u001b[1;33m=\u001b[0m\u001b[1;32mNone\u001b[0m\u001b[1;33m,\u001b[0m\u001b[1;33m\n",
       "\u001b[0m    \u001b[0malpha\u001b[0m\u001b[1;33m=\u001b[0m\u001b[1;32mNone\u001b[0m\u001b[1;33m,\u001b[0m\u001b[1;33m\n",
       "\u001b[0m    \u001b[0mlinewidths\u001b[0m\u001b[1;33m=\u001b[0m\u001b[1;32mNone\u001b[0m\u001b[1;33m,\u001b[0m\u001b[1;33m\n",
       "\u001b[0m    \u001b[0mverts\u001b[0m\u001b[1;33m=\u001b[0m\u001b[1;32mNone\u001b[0m\u001b[1;33m,\u001b[0m\u001b[1;33m\n",
       "\u001b[0m    \u001b[0medgecolors\u001b[0m\u001b[1;33m=\u001b[0m\u001b[1;32mNone\u001b[0m\u001b[1;33m,\u001b[0m\u001b[1;33m\n",
       "\u001b[0m    \u001b[1;33m*\u001b[0m\u001b[1;33m,\u001b[0m\u001b[1;33m\n",
       "\u001b[0m    \u001b[0mplotnonfinite\u001b[0m\u001b[1;33m=\u001b[0m\u001b[1;32mFalse\u001b[0m\u001b[1;33m,\u001b[0m\u001b[1;33m\n",
       "\u001b[0m    \u001b[0mdata\u001b[0m\u001b[1;33m=\u001b[0m\u001b[1;32mNone\u001b[0m\u001b[1;33m,\u001b[0m\u001b[1;33m\n",
       "\u001b[0m    \u001b[1;33m**\u001b[0m\u001b[0mkwargs\u001b[0m\u001b[1;33m,\u001b[0m\u001b[1;33m\n",
       "\u001b[0m\u001b[1;33m)\u001b[0m\u001b[1;33m\u001b[0m\u001b[1;33m\u001b[0m\u001b[0m\n",
       "\u001b[1;31mDocstring:\u001b[0m\n",
       "A scatter plot of *y* vs *x* with varying marker size and/or color.\n",
       "\n",
       "Parameters\n",
       "----------\n",
       "x, y : array_like, shape (n, )\n",
       "    The data positions.\n",
       "\n",
       "s : scalar or array_like, shape (n, ), optional\n",
       "    The marker size in points**2.\n",
       "    Default is ``rcParams['lines.markersize'] ** 2``.\n",
       "\n",
       "c : color, sequence, or sequence of color, optional\n",
       "    The marker color. Possible values:\n",
       "\n",
       "    - A single color format string.\n",
       "    - A sequence of color specifications of length n.\n",
       "    - A sequence of n numbers to be mapped to colors using *cmap* and\n",
       "      *norm*.\n",
       "    - A 2-D array in which the rows are RGB or RGBA.\n",
       "\n",
       "    Note that *c* should not be a single numeric RGB or RGBA sequence\n",
       "    because that is indistinguishable from an array of values to be\n",
       "    colormapped. If you want to specify the same RGB or RGBA value for\n",
       "    all points, use a 2-D array with a single row.  Otherwise, value-\n",
       "    matching will have precedence in case of a size matching with *x*\n",
       "    and *y*.\n",
       "\n",
       "    Defaults to ``None``. In that case the marker color is determined\n",
       "    by the value of ``color``, ``facecolor`` or ``facecolors``. In case\n",
       "    those are not specified or ``None``, the marker color is determined\n",
       "    by the next color of the ``Axes``' current \"shape and fill\" color\n",
       "    cycle. This cycle defaults to :rc:`axes.prop_cycle`.\n",
       "\n",
       "marker : `~matplotlib.markers.MarkerStyle`, optional\n",
       "    The marker style. *marker* can be either an instance of the class\n",
       "    or the text shorthand for a particular marker.\n",
       "    Defaults to ``None``, in which case it takes the value of\n",
       "    :rc:`scatter.marker` = 'o'.\n",
       "    See `~matplotlib.markers` for more information about marker styles.\n",
       "\n",
       "cmap : `~matplotlib.colors.Colormap`, optional, default: None\n",
       "    A `.Colormap` instance or registered colormap name. *cmap* is only\n",
       "    used if *c* is an array of floats. If ``None``, defaults to rc\n",
       "    ``image.cmap``.\n",
       "\n",
       "norm : `~matplotlib.colors.Normalize`, optional, default: None\n",
       "    A `.Normalize` instance is used to scale luminance data to 0, 1.\n",
       "    *norm* is only used if *c* is an array of floats. If *None*, use\n",
       "    the default `.colors.Normalize`.\n",
       "\n",
       "vmin, vmax : scalar, optional, default: None\n",
       "    *vmin* and *vmax* are used in conjunction with *norm* to normalize\n",
       "    luminance data. If None, the respective min and max of the color\n",
       "    array is used. *vmin* and *vmax* are ignored if you pass a *norm*\n",
       "    instance.\n",
       "\n",
       "alpha : scalar, optional, default: None\n",
       "    The alpha blending value, between 0 (transparent) and 1 (opaque).\n",
       "\n",
       "linewidths : scalar or array_like, optional, default: None\n",
       "    The linewidth of the marker edges. Note: The default *edgecolors*\n",
       "    is 'face'. You may want to change this as well.\n",
       "    If *None*, defaults to rcParams ``lines.linewidth``.\n",
       "\n",
       "edgecolors : {'face', 'none', *None*} or color or sequence of color, optional.\n",
       "    The edge color of the marker. Possible values:\n",
       "\n",
       "    - 'face': The edge color will always be the same as the face color.\n",
       "    - 'none': No patch boundary will be drawn.\n",
       "    - A Matplotlib color or sequence of color.\n",
       "\n",
       "    Defaults to ``None``, in which case it takes the value of\n",
       "    :rc:`scatter.edgecolors` = 'face'.\n",
       "\n",
       "    For non-filled markers, the *edgecolors* kwarg is ignored and\n",
       "    forced to 'face' internally.\n",
       "\n",
       "plotnonfinite : boolean, optional, default: False\n",
       "    Set to plot points with nonfinite *c*, in conjunction with\n",
       "    `~matplotlib.colors.Colormap.set_bad`.\n",
       "\n",
       "Returns\n",
       "-------\n",
       "paths : `~matplotlib.collections.PathCollection`\n",
       "\n",
       "Other Parameters\n",
       "----------------\n",
       "**kwargs : `~matplotlib.collections.Collection` properties\n",
       "\n",
       "See Also\n",
       "--------\n",
       "plot : To plot scatter plots when markers are identical in size and\n",
       "    color.\n",
       "\n",
       "Notes\n",
       "-----\n",
       "\n",
       "* The `.plot` function will be faster for scatterplots where markers\n",
       "  don't vary in size or color.\n",
       "\n",
       "* Any or all of *x*, *y*, *s*, and *c* may be masked arrays, in which\n",
       "  case all masks will be combined and only unmasked points will be\n",
       "  plotted.\n",
       "\n",
       "* Fundamentally, scatter works with 1-D arrays; *x*, *y*, *s*, and *c*\n",
       "  may be input as 2-D arrays, but within scatter they will be\n",
       "  flattened. The exception is *c*, which will be flattened only if its\n",
       "  size matches the size of *x* and *y*.\n",
       "\n",
       ".. note::\n",
       "    In addition to the above described arguments, this function can take a\n",
       "    **data** keyword argument. If such a **data** argument is given, the\n",
       "    following arguments are replaced by **data[<arg>]**:\n",
       "\n",
       "    * All arguments with the following names: 'c', 'color', 'edgecolors', 'facecolor', 'facecolors', 'linewidths', 's', 'x', 'y'.\n",
       "\n",
       "    Objects passed as **data** must support item access (``data[<arg>]``) and\n",
       "    membership test (``<arg> in data``).\n",
       "\u001b[1;31mFile:\u001b[0m      c:\\users\\ozguome\\appdata\\local\\continuum\\anaconda3\\lib\\site-packages\\matplotlib\\pyplot.py\n",
       "\u001b[1;31mType:\u001b[0m      function\n"
      ]
     },
     "metadata": {},
     "output_type": "display_data"
    }
   ],
   "source": [
    "plt.scatter?"
   ]
  },
  {
   "cell_type": "code",
   "execution_count": null,
   "metadata": {},
   "outputs": [],
   "source": []
  },
  {
   "cell_type": "code",
   "execution_count": null,
   "metadata": {},
   "outputs": [],
   "source": []
  },
  {
   "cell_type": "code",
   "execution_count": null,
   "metadata": {},
   "outputs": [],
   "source": []
  },
  {
   "cell_type": "code",
   "execution_count": null,
   "metadata": {},
   "outputs": [],
   "source": []
  },
  {
   "cell_type": "code",
   "execution_count": null,
   "metadata": {},
   "outputs": [],
   "source": []
  },
  {
   "cell_type": "code",
   "execution_count": null,
   "metadata": {},
   "outputs": [],
   "source": []
  },
  {
   "cell_type": "code",
   "execution_count": null,
   "metadata": {},
   "outputs": [],
   "source": []
  },
  {
   "cell_type": "code",
   "execution_count": null,
   "metadata": {},
   "outputs": [],
   "source": []
  },
  {
   "cell_type": "code",
   "execution_count": null,
   "metadata": {},
   "outputs": [],
   "source": []
  },
  {
   "cell_type": "code",
   "execution_count": null,
   "metadata": {},
   "outputs": [],
   "source": []
  },
  {
   "cell_type": "code",
   "execution_count": null,
   "metadata": {},
   "outputs": [],
   "source": []
  },
  {
   "cell_type": "code",
   "execution_count": null,
   "metadata": {},
   "outputs": [],
   "source": []
  },
  {
   "cell_type": "code",
   "execution_count": null,
   "metadata": {},
   "outputs": [],
   "source": [
    "\n"
   ]
  },
  {
   "cell_type": "raw",
   "metadata": {},
   "source": []
  },
  {
   "cell_type": "code",
   "execution_count": null,
   "metadata": {},
   "outputs": [],
   "source": []
  }
 ],
 "metadata": {
  "kernelspec": {
   "display_name": "Python 3",
   "language": "python",
   "name": "python3"
  },
  "language_info": {
   "codemirror_mode": {
    "name": "ipython",
    "version": 3
   },
   "file_extension": ".py",
   "mimetype": "text/x-python",
   "name": "python",
   "nbconvert_exporter": "python",
   "pygments_lexer": "ipython3",
   "version": "3.7.4"
  }
 },
 "nbformat": 4,
 "nbformat_minor": 4
}
